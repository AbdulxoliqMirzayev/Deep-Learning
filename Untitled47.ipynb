{
  "nbformat": 4,
  "nbformat_minor": 0,
  "metadata": {
    "colab": {
      "provenance": [],
      "authorship_tag": "ABX9TyNMoH3LW0knuRIKOrS9WUMu",
      "include_colab_link": true
    },
    "kernelspec": {
      "name": "python3",
      "display_name": "Python 3"
    },
    "language_info": {
      "name": "python"
    }
  },
  "cells": [
    {
      "cell_type": "markdown",
      "metadata": {
        "id": "view-in-github",
        "colab_type": "text"
      },
      "source": [
        "<a href=\"https://colab.research.google.com/github/AbdulxoliqMirzayev/Deep-Learning/blob/main/Untitled47.ipynb\" target=\"_parent\"><img src=\"https://colab.research.google.com/assets/colab-badge.svg\" alt=\"Open In Colab\"/></a>"
      ]
    },
    {
      "cell_type": "code",
      "execution_count": 9,
      "metadata": {
        "id": "c0g5ThBqgIkZ"
      },
      "outputs": [],
      "source": [
        "from fastai.tabular.all import *"
      ]
    },
    {
      "cell_type": "code",
      "source": [
        "\n",
        "texts = [\n",
        "    \"The dollar has gained significant strength after the Federal Reserve's interest rate hike.\",\n",
        "    \"Investors are worried about the economic situation in Europe.\",\n",
        "    \"The stock market has seen a positive reaction due to the government's new policies.\",\n",
        "    \"There are fears of a possible recession affecting global markets.\",\n",
        "    \"Gold prices have surged due to uncertainties in global politics.\"\n",
        "]\n"
      ],
      "metadata": {
        "id": "NvDyiDXZjroL"
      },
      "execution_count": 10,
      "outputs": []
    },
    {
      "cell_type": "code",
      "source": [
        "import re\n",
        "import nltk\n",
        "from nltk.corpus import stopwords\n",
        "from nltk.stem import WordNetLemmatizer\n",
        "\n",
        "# Preprocessing uchun kerakli kutubxonalarni yuklab olish\n",
        "nltk.download('stopwords')\n",
        "nltk.download('wordnet')\n",
        "nltk.download('punkt')\n",
        "\n",
        "# Matnni tozalash funksiyasi\n",
        "def clean_text(text):\n",
        "    # Matnni kichik harflarga o'tkazish\n",
        "    text = text.lower()\n",
        "    # Maxsus belgilar va raqamlarni olib tashlash\n",
        "    text = re.sub(r'[^a-zA-Z\\s]', '', text)\n",
        "    # Tokenizatsiya (so'zlarga ajratish)\n",
        "    words = nltk.word_tokenize(text)\n",
        "    # Stop so'zlarni olib tashlash\n",
        "    words = [word for word in words if word not in stopwords.words('english')]\n",
        "    # Lemmatisatsiya\n",
        "    lemmatizer = WordNetLemmatizer()\n",
        "    words = [lemmatizer.lemmatize(word) for word in words]\n",
        "    # Tozalangan matnni qaytarish\n",
        "    return \" \".join(words)\n",
        "\n",
        "# Matnlar tozalab chiqiladi\n",
        "cleaned_texts = [clean_text(text) for text in texts]\n",
        "print(cleaned_texts)\n"
      ],
      "metadata": {
        "colab": {
          "base_uri": "https://localhost:8080/"
        },
        "id": "wdVK0Vbnjs5l",
        "outputId": "37db5e39-d805-468f-9156-8effacd56df7"
      },
      "execution_count": 11,
      "outputs": [
        {
          "output_type": "stream",
          "name": "stdout",
          "text": [
            "['dollar gained significant strength federal reserve interest rate hike', 'investor worried economic situation europe', 'stock market seen positive reaction due government new policy', 'fear possible recession affecting global market', 'gold price surged due uncertainty global politics']\n"
          ]
        },
        {
          "output_type": "stream",
          "name": "stderr",
          "text": [
            "[nltk_data] Downloading package stopwords to /root/nltk_data...\n",
            "[nltk_data]   Package stopwords is already up-to-date!\n",
            "[nltk_data] Downloading package wordnet to /root/nltk_data...\n",
            "[nltk_data]   Package wordnet is already up-to-date!\n",
            "[nltk_data] Downloading package punkt to /root/nltk_data...\n",
            "[nltk_data]   Package punkt is already up-to-date!\n"
          ]
        }
      ]
    },
    {
      "cell_type": "code",
      "source": [
        "from textblob import TextBlob\n",
        "\n",
        "# Sentimentni aniqlash funksiyasi\n",
        "def get_sentiment(text):\n",
        "    analysis = TextBlob(text)\n",
        "    # Sentiment qiymatlarini chiqarish (polarization)\n",
        "    return analysis.sentiment.polarity\n",
        "\n",
        "# Har bir tozalangan matnning sentimenti aniqlanadi\n",
        "sentiments = [get_sentiment(text) for text in cleaned_texts]\n",
        "\n",
        "# Natijalarni chiqarish\n",
        "for i, sentiment in enumerate(sentiments):\n",
        "    print(f\"Matn: {texts[i]}\")\n",
        "    if sentiment > 0:\n",
        "        print(f\"Sentiment: Ijobiy ({sentiment})\")\n",
        "    elif sentiment < 0:\n",
        "        print(f\"Sentiment: Salbiy ({sentiment})\")\n",
        "    else:\n",
        "        print(f\"Sentiment: Neytral ({sentiment})\")\n"
      ],
      "metadata": {
        "colab": {
          "base_uri": "https://localhost:8080/"
        },
        "id": "bIX_Kn0QjuRy",
        "outputId": "9e58da2f-4a52-4890-e3a2-b3963e3363e4"
      },
      "execution_count": 12,
      "outputs": [
        {
          "output_type": "stream",
          "name": "stdout",
          "text": [
            "Matn: The dollar has gained significant strength after the Federal Reserve's interest rate hike.\n",
            "Sentiment: Ijobiy (0.375)\n",
            "Matn: Investors are worried about the economic situation in Europe.\n",
            "Sentiment: Ijobiy (0.2)\n",
            "Matn: The stock market has seen a positive reaction due to the government's new policies.\n",
            "Sentiment: Ijobiy (0.07954545454545454)\n",
            "Matn: There are fears of a possible recession affecting global markets.\n",
            "Sentiment: Neytral (0.0)\n",
            "Matn: Gold prices have surged due to uncertainties in global politics.\n",
            "Sentiment: Salbiy (-0.0625)\n"
          ]
        }
      ]
    },
    {
      "cell_type": "code",
      "source": [
        "# Tahlil natijalarini umumlashtirish\n",
        "for i, sentiment in enumerate(sentiments):\n",
        "    if sentiment > 0:\n",
        "        print(f\"Matn {i+1} bozor uchun ijobiy signal beradi.\")\n",
        "    elif sentiment < 0:\n",
        "        print(f\"Matn {i+1} bozor uchun salbiy signal beradi.\")\n",
        "    else:\n",
        "        print(f\"Matn {i+1} bozor uchun neytral.\")\n"
      ],
      "metadata": {
        "colab": {
          "base_uri": "https://localhost:8080/"
        },
        "id": "_NaDFgZZjxKY",
        "outputId": "a212ef23-b200-4de7-ea24-b792c5b2119e"
      },
      "execution_count": 13,
      "outputs": [
        {
          "output_type": "stream",
          "name": "stdout",
          "text": [
            "Matn 1 bozor uchun ijobiy signal beradi.\n",
            "Matn 2 bozor uchun ijobiy signal beradi.\n",
            "Matn 3 bozor uchun ijobiy signal beradi.\n",
            "Matn 4 bozor uchun neytral.\n",
            "Matn 5 bozor uchun salbiy signal beradi.\n"
          ]
        }
      ]
    },
    {
      "cell_type": "code",
      "source": [
        "import re\n",
        "import nltk\n",
        "from nltk.corpus import stopwords\n",
        "from nltk.stem import WordNetLemmatizer\n",
        "from textblob import TextBlob\n",
        "\n",
        "# Preprocessing uchun kerakli kutubxonalarni yuklab olish\n",
        "nltk.download('stopwords')\n",
        "nltk.download('wordnet')\n",
        "nltk.download('punkt')\n",
        "\n",
        "# Matnlar\n",
        "texts = [\n",
        "    \"The dollar has gained significant strength after the Federal Reserve's interest rate hike.\",\n",
        "    \"Investors are worried about the economic situation in Europe.\",\n",
        "    \"The stock market has seen a positive reaction due to the government's new policies.\",\n",
        "    \"There are fears of a possible recession affecting global markets.\",\n",
        "    \"Gold prices have surged due to uncertainties in global politics.\"\n",
        "]\n",
        "\n",
        "# Matnni tozalash funksiyasi\n",
        "def clean_text(text):\n",
        "    text = text.lower()\n",
        "    text = re.sub(r'[^a-zA-Z\\s]', '', text)\n",
        "    words = nltk.word_tokenize(text)\n",
        "    words = [word for word in words if word not in stopwords.words('english')]\n",
        "    lemmatizer = WordNetLemmatizer()\n",
        "    words = [lemmatizer.lemmatize(word) for word in words]\n",
        "    return \" \".join(words)\n",
        "\n",
        "# Sentimentni aniqlash funksiyasi\n",
        "def get_sentiment(text):\n",
        "    analysis = TextBlob(text)\n",
        "    return analysis.sentiment.polarity\n",
        "\n",
        "# Matnlar tozalab, sentiment tahlil qilinadi\n",
        "cleaned_texts = [clean_text(text) for text in texts]\n",
        "sentiments = [get_sentiment(text) for text in cleaned_texts]\n",
        "\n",
        "# Natijalarni chiqarish\n",
        "for i, sentiment in enumerate(sentiments):\n",
        "    print(f\"Matn: {texts[i]}\")\n",
        "    if sentiment > 0:\n",
        "        print(f\"Sentiment: Ijobiy ({sentiment})\")\n",
        "    elif sentiment < 0:\n",
        "        print(f\"Sentiment: Salbiy ({sentiment})\")\n",
        "    else:\n",
        "        print(f\"Sentiment: Neytral ({sentiment})\")\n",
        "\n",
        "# Umumiy tahlil\n",
        "for i, sentiment in enumerate(sentiments):\n",
        "    if sentiment > 0:\n",
        "        print(f\"Matn {i+1} bozor uchun ijobiy signal beradi.\")\n",
        "    elif sentiment < 0:\n",
        "        print(f\"Matn {i+1} bozor uchun salbiy signal beradi.\")\n",
        "    else:\n",
        "        print(f\"Matn {i+1} bozor uchun neytral.\")\n"
      ],
      "metadata": {
        "colab": {
          "base_uri": "https://localhost:8080/"
        },
        "id": "NhM53s2Zj0zD",
        "outputId": "2ce78b2d-e349-44cd-c984-892b544601e3"
      },
      "execution_count": 14,
      "outputs": [
        {
          "output_type": "stream",
          "name": "stdout",
          "text": [
            "Matn: The dollar has gained significant strength after the Federal Reserve's interest rate hike.\n",
            "Sentiment: Ijobiy (0.375)\n",
            "Matn: Investors are worried about the economic situation in Europe.\n",
            "Sentiment: Ijobiy (0.2)\n",
            "Matn: The stock market has seen a positive reaction due to the government's new policies.\n",
            "Sentiment: Ijobiy (0.07954545454545454)\n",
            "Matn: There are fears of a possible recession affecting global markets.\n",
            "Sentiment: Neytral (0.0)\n",
            "Matn: Gold prices have surged due to uncertainties in global politics.\n",
            "Sentiment: Salbiy (-0.0625)\n",
            "Matn 1 bozor uchun ijobiy signal beradi.\n",
            "Matn 2 bozor uchun ijobiy signal beradi.\n",
            "Matn 3 bozor uchun ijobiy signal beradi.\n",
            "Matn 4 bozor uchun neytral.\n",
            "Matn 5 bozor uchun salbiy signal beradi.\n"
          ]
        },
        {
          "output_type": "stream",
          "name": "stderr",
          "text": [
            "[nltk_data] Downloading package stopwords to /root/nltk_data...\n",
            "[nltk_data]   Package stopwords is already up-to-date!\n",
            "[nltk_data] Downloading package wordnet to /root/nltk_data...\n",
            "[nltk_data]   Package wordnet is already up-to-date!\n",
            "[nltk_data] Downloading package punkt to /root/nltk_data...\n",
            "[nltk_data]   Package punkt is already up-to-date!\n"
          ]
        }
      ]
    },
    {
      "cell_type": "code",
      "source": [],
      "metadata": {
        "id": "1QDEUkquj5yC"
      },
      "execution_count": 14,
      "outputs": []
    }
  ]
}